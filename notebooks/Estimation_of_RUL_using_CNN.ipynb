{
  "nbformat": 4,
  "nbformat_minor": 0,
  "metadata": {
    "anaconda-cloud": {},
    "kernelspec": {
      "name": "python3",
      "display_name": "Python 3"
    },
    "colab": {
      "name": "Estimation_of_RUL_using_CNN.ipynb",
      "provenance": []
    },
    "accelerator": "GPU"
  },
  "cells": [
    {
      "cell_type": "code",
      "metadata": {
        "id": "SPjS2awZVYWi",
        "colab": {
          "base_uri": "https://localhost:8080/"
        },
        "outputId": "2abd2686-b66a-44fd-ebea-d192bb84b827"
      },
      "source": [
        "import tensorflow.compat.v1 as tf\n",
        "tf.disable_v2_behavior()\n",
        "#\n",
        "#"
      ],
      "execution_count": null,
      "outputs": [
        {
          "output_type": "stream",
          "text": [
            "WARNING:tensorflow:From /usr/local/lib/python3.7/dist-packages/tensorflow/python/compat/v2_compat.py:96: disable_resource_variables (from tensorflow.python.ops.variable_scope) is deprecated and will be removed in a future version.\n",
            "Instructions for updating:\n",
            "non-resource variables are not supported in the long term\n"
          ],
          "name": "stdout"
        }
      ]
    },
    {
      "cell_type": "code",
      "metadata": {
        "collapsed": true,
        "id": "VUcZJQ5DjNkY"
      },
      "source": [
        "import pandas as pd\n",
        "import numpy as np\n",
        "# import tensorflow as tf\n",
        "from sklearn.preprocessing import scale"
      ],
      "execution_count": null,
      "outputs": []
    },
    {
      "cell_type": "code",
      "metadata": {
        "scrolled": true,
        "id": "5860b2OmjNkj"
      },
      "source": [
        "def windows(nrows, size):\n",
        "    start,step = 0, 2\n",
        "    while start < nrows:\n",
        "        yield start, start + size\n",
        "        start += step\n",
        "\n",
        "def segment_signal(features,labels,window_size = 15):\n",
        "    segments = np.empty((0,window_size))\n",
        "    segment_labels = np.empty((0))\n",
        "    nrows = len(features)\n",
        "    for (start, end) in windows(nrows,window_size):\n",
        "        if(len(data.iloc[start:end]) == window_size):\n",
        "            segment = features[start:end].T  #Transpose to get segment of size 24 x 15 \n",
        "            label = labels[(end-1)]\n",
        "            segments = np.vstack([segments,segment]) \n",
        "            segment_labels = np.append(segment_labels,label)\n",
        "    segments = segments.reshape(-1,24,window_size,1) # number of features  = 24 \n",
        "    segment_labels = segment_labels.reshape(-1,1)\n",
        "    return segments,segment_labels"
      ],
      "execution_count": null,
      "outputs": []
    },
    {
      "cell_type": "code",
      "metadata": {
        "scrolled": true,
        "id": "be-yzj37jNkk"
      },
      "source": [
        "data = pd.read_csv(\"https://raw.githubusercontent.com/ericlrf/Estimation-of-Remaining-Useful-Life-using-CNN/master/PHM08.csv\")\n",
        "features = scale(data.iloc[:,2:26]) # select required columns and scale them\n",
        "labels = data.iloc[:,26] # select RUL "
      ],
      "execution_count": null,
      "outputs": []
    },
    {
      "cell_type": "code",
      "metadata": {
        "scrolled": false,
        "id": "i5hOqE7yjNkl"
      },
      "source": [
        "segments, labels = segment_signal(features,labels)"
      ],
      "execution_count": null,
      "outputs": []
    },
    {
      "cell_type": "code",
      "metadata": {
        "collapsed": true,
        "id": "ZSxTV_hCjNkl"
      },
      "source": [
        "train_test_split = np.random.rand(len(segments)) < 0.70\n",
        "train_x = segments[train_test_split]\n",
        "train_y = labels[train_test_split]\n",
        "test_x = segments[~train_test_split]\n",
        "test_y = labels[~train_test_split]"
      ],
      "execution_count": null,
      "outputs": []
    },
    {
      "cell_type": "markdown",
      "metadata": {
        "id": "7CJfb87rjNkm"
      },
      "source": [
        "--------------------------------------------------------------------------------------------------------------------------------"
      ]
    },
    {
      "cell_type": "code",
      "metadata": {
        "id": "oO3IDplNjNkm"
      },
      "source": [
        "def weight_variable(shape):\n",
        "    initial = tf.truncated_normal(shape, stddev = 0.1)\n",
        "    return tf.Variable(initial)\n",
        "\n",
        "def bias_variable(shape):\n",
        "    initial = tf.constant(1.0, shape = shape)\n",
        "    return tf.Variable(initial)\n",
        "\n",
        "def apply_conv(x,kernel_height,kernel_width,num_channels,depth):\n",
        "    weights = weight_variable([kernel_height, kernel_width, num_channels, depth])\n",
        "    biases = bias_variable([depth])\n",
        "    return tf.nn.relu(tf.add(tf.nn.conv2d(x, weights,[1,1,1,1],padding=\"VALID\"),biases))\n",
        "    \n",
        "def apply_max_pool(x,kernel_height,kernel_width,stride_size):\n",
        "    return tf.nn.max_pool(x, ksize=[1, kernel_height, kernel_width, 1], strides=[1, 1, stride_size, 1], padding = \"VALID\")"
      ],
      "execution_count": null,
      "outputs": []
    },
    {
      "cell_type": "code",
      "metadata": {
        "collapsed": true,
        "id": "BkBVx8iejNkn"
      },
      "source": [
        "num_labels = 1\n",
        "batch_size = 10\n",
        "num_hidden = 800\n",
        "learning_rate = 0.0001\n",
        "training_epochs = 30\n",
        "input_height = 24\n",
        "input_width = 15\n",
        "num_channels = 1\n",
        "total_batches = train_x.shape[0] // batch_size"
      ],
      "execution_count": null,
      "outputs": []
    },
    {
      "cell_type": "code",
      "metadata": {
        "collapsed": true,
        "id": "1vBwWTHujNko"
      },
      "source": [
        "X = tf.compat.v1.placeholder(tf.float32, shape=[None,input_height,input_width,num_channels])\n",
        "Y = tf.compat.v1.placeholder(tf.float32, shape=[None,num_labels])\n",
        "# X = tf.placeholder(tf.float32, shape=[None,input_height,input_width,num_channels])\n",
        "# Y = tf.placeholder(tf.float32, shape=[None,num_labels])\n",
        "\n",
        "c = apply_conv(X, kernel_height = 24, kernel_width = 4, num_channels = 1, depth = 8) \n",
        "p = apply_max_pool(c,kernel_height = 1, kernel_width = 2, stride_size = 2) \n",
        "c = apply_conv(p, kernel_height = 1, kernel_width = 3, num_channels = 8, depth = 14) \n",
        "p = apply_max_pool(c,kernel_height = 1, kernel_width = 2, stride_size = 2) \n",
        "\n",
        "shape = p.get_shape().as_list()\n",
        "flat = tf.reshape(p, [-1, shape[1] * shape[2] * shape[3]])\n",
        "\n",
        "f_weights = weight_variable([shape[1] * shape[2] * shape[3], num_hidden])\n",
        "f_biases = bias_variable([num_hidden])\n",
        "f = tf.nn.tanh(tf.add(tf.matmul(flat, f_weights),f_biases))\n",
        "\n",
        "out_weights = weight_variable([num_hidden, num_labels])\n",
        "out_biases = bias_variable([num_labels])\n",
        "y_ = tf.add(tf.matmul(f, out_weights),out_biases)"
      ],
      "execution_count": null,
      "outputs": []
    },
    {
      "cell_type": "code",
      "metadata": {
        "collapsed": true,
        "id": "ZAXV6FZGjNko"
      },
      "source": [
        "cost_function = tf.reduce_mean(tf.square(y_- Y))\n",
        "optimizer = tf.train.AdamOptimizer(learning_rate).minimize(cost_function)"
      ],
      "execution_count": null,
      "outputs": []
    },
    {
      "cell_type": "code",
      "metadata": {
        "id": "F_gUlB_pjNkp",
        "colab": {
          "base_uri": "https://localhost:8080/"
        },
        "outputId": "945001a2-2ab2-44f8-961d-567c72915f06"
      },
      "source": [
        "train_mse = []\n",
        "test_mse = []\n",
        "with tf.Session() as session:\n",
        "    tf.global_variables_initializer().run()\n",
        "    print(\"Training set MSE\")\n",
        "    for epoch in range(training_epochs):\n",
        "        for b in range(total_batches):    \n",
        "            offset = (b * batch_size) % (train_x.shape[0] - batch_size)\n",
        "            batch_x = train_x[offset:(offset + batch_size), :, :, :]\n",
        "            batch_y = train_y[offset:(offset + batch_size),:]\n",
        "            _, c = session.run([optimizer, cost_function],feed_dict={X: batch_x, Y : batch_y})\n",
        "            \n",
        "        p_tr = session.run(y_, feed_dict={X:  train_x})\n",
        "        tr_mse = tf.reduce_mean(tf.square(p_tr - train_y))\n",
        "        train_mse.append(session.run(tr_mse)) \n",
        "        print(train_mse[-1])\n",
        "\n",
        "    p_ts = session.run(y_, feed_dict={X:  test_x})\n",
        "    ts_mse = tf.reduce_mean(tf.square(p_ts - test_y))\n",
        "    test_mse.append(session.run(ts_mse))\n",
        "    print(\"Test set MSE: %.4f\" % test_mse[-1]) "
      ],
      "execution_count": null,
      "outputs": [
        {
          "output_type": "stream",
          "text": [
            "Training set MSE\n",
            "4765.775701468718\n",
            "4682.2916590297755\n",
            "4680.168980934526\n",
            "4678.964539342199\n",
            "4668.81241126378\n",
            "4635.368776166393\n",
            "4579.7327852415165\n",
            "4498.660402579265\n",
            "4384.243424849911\n",
            "4231.702490067251\n",
            "4049.3423404685577\n",
            "3857.9062793859002\n",
            "3667.817762836181\n",
            "3499.3956258906096\n",
            "3356.4478796099047\n",
            "3233.561861195541\n",
            "3129.646565519125\n",
            "3037.9421796215956\n",
            "2960.061923302212\n",
            "2891.958890872887\n",
            "2833.788605123142\n",
            "2781.6681692891502\n",
            "2734.8344977311813\n",
            "2695.3826945524306\n",
            "2657.708431798455\n",
            "2621.550442069863\n",
            "2588.341502094438\n",
            "2556.079005988116\n",
            "2525.24311927246\n",
            "2497.2415212645224\n",
            "Test set MSE: 2513.4512\n"
          ],
          "name": "stdout"
        }
      ]
    },
    {
      "cell_type": "code",
      "metadata": {
        "collapsed": true,
        "id": "lTfpai2mjNkq",
        "colab": {
          "base_uri": "https://localhost:8080/"
        },
        "outputId": "d3101b25-c447-45af-b017-4969ff946706"
      },
      "source": [
        "len(train_mse)"
      ],
      "execution_count": null,
      "outputs": [
        {
          "output_type": "execute_result",
          "data": {
            "text/plain": [
              "30"
            ]
          },
          "metadata": {
            "tags": []
          },
          "execution_count": 46
        }
      ]
    },
    {
      "cell_type": "code",
      "metadata": {
        "colab": {
          "base_uri": "https://localhost:8080/"
        },
        "id": "NVU9R5IzCcWC",
        "outputId": "d10a9316-20bd-408c-ac99-1ae4d4b2ad9f"
      },
      "source": [
        "for i in range(len(train_mse)-1):\n",
        "  test_mse.append(test_mse[-1])\n",
        "\n",
        "len(test_mse)"
      ],
      "execution_count": null,
      "outputs": [
        {
          "output_type": "execute_result",
          "data": {
            "text/plain": [
              "30"
            ]
          },
          "metadata": {
            "tags": []
          },
          "execution_count": 47
        }
      ]
    },
    {
      "cell_type": "code",
      "metadata": {
        "colab": {
          "base_uri": "https://localhost:8080/",
          "height": 893
        },
        "id": "qZGHB-GTFFLU",
        "outputId": "3f7c2060-2337-4f6d-fda0-64b522a9a3df"
      },
      "source": [
        "import matplotlib.pyplot as plt\n",
        "\n",
        "plt.figure(figsize=(20,15))\n",
        "plt.plot(train_mse)\n",
        "plt.plot(test_mse)\n",
        "plt.title('MSE')\n",
        "plt.ylabel('Mean Squared Error')\n",
        "plt.xlabel('# Epoch')\n",
        "plt.legend(['train', 'test'], loc='upper left')\n",
        "plt.show()\n"
      ],
      "execution_count": null,
      "outputs": [
        {
          "output_type": "display_data",
          "data": {
            "image/png": "[encoded data removed]",
            "text/plain": [
              "<Figure size 1440x1080 with 1 Axes>"
            ]
          },
          "metadata": {
            "tags": [],
            "needs_background": "light"
          }
        }
      ]
    }
  ]
}