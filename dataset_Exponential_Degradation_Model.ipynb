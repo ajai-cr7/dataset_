{
  "nbformat": 4,
  "nbformat_minor": 0,
  "metadata": {
    "kernelspec": {
      "display_name": "Python 3",
      "language": "python",
      "name": "python3"
    },
    "language_info": {
      "codemirror_mode": {
        "name": "ipython",
        "version": 3
      },
      "file_extension": ".py",
      "mimetype": "text/x-python",
      "name": "python",
      "nbconvert_exporter": "python",
      "pygments_lexer": "ipython3",
      "version": "3.7.3"
    },
    "colab": {
      "name": "dataset_Exponential_Degradation_Model.ipynb",
      "provenance": [],
      "collapsed_sections": [],
      "include_colab_link": true
    },
    "accelerator": "GPU"
  },
  "cells": [
    {
      "cell_type": "markdown",
      "metadata": {
        "id": "view-in-github",
        "colab_type": "text"
      },
      "source": [
        "<a href=\"https://colab.research.google.com/github/ajai-cr7/dataset_/blob/main/dataset_Exponential_Degradation_Model.ipynb\" target=\"_parent\"><img src=\"https://colab.research.google.com/assets/colab-badge.svg\" alt=\"Open In Colab\"/></a>"
      ]
    },
    {
      "cell_type": "markdown",
      "metadata": {
        "id": "6OQ726Pcywsv"
      },
      "source": [
        "# Exponential Degradation Model"
      ]
    },
    {
      "cell_type": "code",
      "metadata": {
        "id": "S6O6kaSAyws6"
      },
      "source": [
        "import pandas as pd\n",
        "import numpy as np\n",
        "from random import randint\n",
        "\n",
        "#to plot the data\n",
        "import matplotlib.pyplot as plt\n",
        "import seaborn as sns\n",
        "%matplotlib inline\n",
        "import matplotlib as mpl\n",
        "mpl.rcParams.update(mpl.rcParamsDefault)\n",
        "\n",
        "import time\n",
        "import os\n",
        "# os.chdir(\"C:/Data/aircraft/\")\n",
        "\n",
        "from sklearn.preprocessing import MinMaxScaler #to normalize data\n",
        "from sklearn.metrics import classification_report, confusion_matrix, roc_curve\n",
        "from sklearn.metrics import mean_squared_error, mean_absolute_error\n",
        "from sklearn.utils import class_weight\n",
        "\n",
        "from scipy import optimize"
      ],
      "execution_count": null,
      "outputs": []
    },
    {
      "cell_type": "code",
      "metadata": {
        "id": "2v0lC2bHyws8"
      },
      "source": [
        "def prepare_data():\n",
        "    # dependent_var = ['RUL']\n",
        "    #index_columns_names =  [\"UnitNumber\",\"Cycle\"]\n",
        "    #operational_settings_columns_names = [\"OpSet\"+str(i) for i in range(1,4)]\n",
        "    #sensor_measure_columns_names =[\"SensorMeasure\"+str(i) for i in range(1,22)]\n",
        "    input_file_column_names = [\"FE_time\",\t\"DE_time\",\t\"RPM\",\t\"Fault Diameter\",\t\"Motor Load\",\t\"Fault\",\t\"BA_time\"]\n",
        "\n",
        "    df_train = pd.read_csv('https://raw.githubusercontent.com/ajai-cr7/dataset_/main/CWRU/SYNTHESISED_dataset3______________.txt',delim_whitespace=True,names=input_file_column_names)\n",
        "\n",
        "    # rul = pd.DataFrame(df_train.groupby('UnitNumber')['Cycle'].max()).reset_index()\n",
        "    # rul.columns = ['UnitNumber', 'max']\n",
        "    # df_train = df_train.merge(rul, on=['UnitNumber'], how='left')\n",
        "    # df_train['RUL'] = df_train['max'] - df_train['Cycle']\n",
        "    # df_train.drop('max', axis=1, inplace=True)\n",
        "\n",
        "    # df_test = pd.read_csv('https://raw.githubusercontent.com/ajai-cr7/dataset_/main/CMAPSSData/test_FD001.txt', delim_whitespace=True, names=input_file_column_names)\n",
        "\n",
        "    # y_true = pd.read_csv('https://raw.githubusercontent.com/ajai-cr7/dataset_/main/CMAPSSData/RUL_FD001.txt', delim_whitespace=True,names=[\"RUL\"])\n",
        "    # y_true[\"UnitNumber\"] = y_true.index + 1\n",
        "    \n",
        "    return df_train #, df_test, y_true\n",
        "def expon():\n",
        "  return randint(-5,2)\n"
      ],
      "execution_count": null,
      "outputs": []
    },
    {
      "cell_type": "code",
      "metadata": {
        "colab": {
          "base_uri": "https://localhost:8080/"
        },
        "id": "g8WbkC4Ayws8",
        "outputId": "b8503f57-34f4-4f66-fba2-a9247d2f582b"
      },
      "source": [
        "df_train = prepare_data()\n",
        "df_train.shape"
      ],
      "execution_count": null,
      "outputs": [
        {
          "output_type": "execute_result",
          "data": {
            "text/plain": [
              "(99999, 7)"
            ]
          },
          "metadata": {},
          "execution_count": 120
        }
      ]
    },
    {
      "cell_type": "code",
      "metadata": {
        "id": "-KlioRqFyws-"
      },
      "source": [
        "feats = df_train.columns"
      ],
      "execution_count": null,
      "outputs": []
    },
    {
      "cell_type": "code",
      "metadata": {
        "id": "uhknCZ0Oyws_"
      },
      "source": [
        "sc = MinMaxScaler(feature_range=(-1,1))\n",
        "\n",
        "df_train[feats] = sc.fit_transform(df_train[feats])\n",
        "# df_test[feats] = sc.transform(df_test[feats])"
      ],
      "execution_count": null,
      "outputs": []
    },
    {
      "cell_type": "code",
      "metadata": {
        "colab": {
          "base_uri": "https://localhost:8080/",
          "height": 206
        },
        "id": "fLYgwXmsyws_",
        "outputId": "a24f6f9f-706c-4426-e0e4-973ba24fd546"
      },
      "source": [
        "df_train.head()"
      ],
      "execution_count": null,
      "outputs": [
        {
          "output_type": "execute_result",
          "data": {
            "text/plain": [
              "    FE_time   DE_time  RPM  Fault Diameter  Motor Load  Fault   BA_time\n",
              "0  0.039522 -0.031432 -1.0            -1.0        -1.0   -1.0  0.145857\n",
              "1 -0.036916 -0.029240 -1.0            -1.0        -1.0   -1.0 -0.039152\n",
              "2 -0.077090 -0.058963 -1.0            -1.0        -1.0   -1.0 -0.096055\n",
              "3 -0.028013 -0.062295 -1.0            -1.0        -1.0   -1.0  0.127356\n",
              "4 -0.036916 -0.021262 -1.0            -1.0        -1.0   -1.0  0.103855"
            ],
            "text/html": [
              "\n",
              "  <div id=\"df-83cf1bc2-69b5-487f-89b3-b06fc498ba66\">\n",
              "    <div class=\"colab-df-container\">\n",
              "      <div>\n",
              "<style scoped>\n",
              "    .dataframe tbody tr th:only-of-type {\n",
              "        vertical-align: middle;\n",
              "    }\n",
              "\n",
              "    .dataframe tbody tr th {\n",
              "        vertical-align: top;\n",
              "    }\n",
              "\n",
              "    .dataframe thead th {\n",
              "        text-align: right;\n",
              "    }\n",
              "</style>\n",
              "<table border=\"1\" class=\"dataframe\">\n",
              "  <thead>\n",
              "    <tr style=\"text-align: right;\">\n",
              "      <th></th>\n",
              "      <th>FE_time</th>\n",
              "      <th>DE_time</th>\n",
              "      <th>RPM</th>\n",
              "      <th>Fault Diameter</th>\n",
              "      <th>Motor Load</th>\n",
              "      <th>Fault</th>\n",
              "      <th>BA_time</th>\n",
              "    </tr>\n",
              "  </thead>\n",
              "  <tbody>\n",
              "    <tr>\n",
              "      <th>0</th>\n",
              "      <td>0.039522</td>\n",
              "      <td>-0.031432</td>\n",
              "      <td>-1.0</td>\n",
              "      <td>-1.0</td>\n",
              "      <td>-1.0</td>\n",
              "      <td>-1.0</td>\n",
              "      <td>0.145857</td>\n",
              "    </tr>\n",
              "    <tr>\n",
              "      <th>1</th>\n",
              "      <td>-0.036916</td>\n",
              "      <td>-0.029240</td>\n",
              "      <td>-1.0</td>\n",
              "      <td>-1.0</td>\n",
              "      <td>-1.0</td>\n",
              "      <td>-1.0</td>\n",
              "      <td>-0.039152</td>\n",
              "    </tr>\n",
              "    <tr>\n",
              "      <th>2</th>\n",
              "      <td>-0.077090</td>\n",
              "      <td>-0.058963</td>\n",
              "      <td>-1.0</td>\n",
              "      <td>-1.0</td>\n",
              "      <td>-1.0</td>\n",
              "      <td>-1.0</td>\n",
              "      <td>-0.096055</td>\n",
              "    </tr>\n",
              "    <tr>\n",
              "      <th>3</th>\n",
              "      <td>-0.028013</td>\n",
              "      <td>-0.062295</td>\n",
              "      <td>-1.0</td>\n",
              "      <td>-1.0</td>\n",
              "      <td>-1.0</td>\n",
              "      <td>-1.0</td>\n",
              "      <td>0.127356</td>\n",
              "    </tr>\n",
              "    <tr>\n",
              "      <th>4</th>\n",
              "      <td>-0.036916</td>\n",
              "      <td>-0.021262</td>\n",
              "      <td>-1.0</td>\n",
              "      <td>-1.0</td>\n",
              "      <td>-1.0</td>\n",
              "      <td>-1.0</td>\n",
              "      <td>0.103855</td>\n",
              "    </tr>\n",
              "  </tbody>\n",
              "</table>\n",
              "</div>\n",
              "      <button class=\"colab-df-convert\" onclick=\"convertToInteractive('df-83cf1bc2-69b5-487f-89b3-b06fc498ba66')\"\n",
              "              title=\"Convert this dataframe to an interactive table.\"\n",
              "              style=\"display:none;\">\n",
              "        \n",
              "  <svg xmlns=\"http://www.w3.org/2000/svg\" height=\"24px\"viewBox=\"0 0 24 24\"\n",
              "       width=\"24px\">\n",
              "    <path d=\"M0 0h24v24H0V0z\" fill=\"none\"/>\n",
              "    <path d=\"M18.56 5.44l.94 2.06.94-2.06 2.06-.94-2.06-.94-.94-2.06-.94 2.06-2.06.94zm-11 1L8.5 8.5l.94-2.06 2.06-.94-2.06-.94L8.5 2.5l-.94 2.06-2.06.94zm10 10l.94 2.06.94-2.06 2.06-.94-2.06-.94-.94-2.06-.94 2.06-2.06.94z\"/><path d=\"M17.41 7.96l-1.37-1.37c-.4-.4-.92-.59-1.43-.59-.52 0-1.04.2-1.43.59L10.3 9.45l-7.72 7.72c-.78.78-.78 2.05 0 2.83L4 21.41c.39.39.9.59 1.41.59.51 0 1.02-.2 1.41-.59l7.78-7.78 2.81-2.81c.8-.78.8-2.07 0-2.86zM5.41 20L4 18.59l7.72-7.72 1.47 1.35L5.41 20z\"/>\n",
              "  </svg>\n",
              "      </button>\n",
              "      \n",
              "  <style>\n",
              "    .colab-df-container {\n",
              "      display:flex;\n",
              "      flex-wrap:wrap;\n",
              "      gap: 12px;\n",
              "    }\n",
              "\n",
              "    .colab-df-convert {\n",
              "      background-color: #E8F0FE;\n",
              "      border: none;\n",
              "      border-radius: 50%;\n",
              "      cursor: pointer;\n",
              "      display: none;\n",
              "      fill: #1967D2;\n",
              "      height: 32px;\n",
              "      padding: 0 0 0 0;\n",
              "      width: 32px;\n",
              "    }\n",
              "\n",
              "    .colab-df-convert:hover {\n",
              "      background-color: #E2EBFA;\n",
              "      box-shadow: 0px 1px 2px rgba(60, 64, 67, 0.3), 0px 1px 3px 1px rgba(60, 64, 67, 0.15);\n",
              "      fill: #174EA6;\n",
              "    }\n",
              "\n",
              "    [theme=dark] .colab-df-convert {\n",
              "      background-color: #3B4455;\n",
              "      fill: #D2E3FC;\n",
              "    }\n",
              "\n",
              "    [theme=dark] .colab-df-convert:hover {\n",
              "      background-color: #434B5C;\n",
              "      box-shadow: 0px 1px 3px 1px rgba(0, 0, 0, 0.15);\n",
              "      filter: drop-shadow(0px 1px 2px rgba(0, 0, 0, 0.3));\n",
              "      fill: #FFFFFF;\n",
              "    }\n",
              "  </style>\n",
              "\n",
              "      <script>\n",
              "        const buttonEl =\n",
              "          document.querySelector('#df-83cf1bc2-69b5-487f-89b3-b06fc498ba66 button.colab-df-convert');\n",
              "        buttonEl.style.display =\n",
              "          google.colab.kernel.accessAllowed ? 'block' : 'none';\n",
              "\n",
              "        async function convertToInteractive(key) {\n",
              "          const element = document.querySelector('#df-83cf1bc2-69b5-487f-89b3-b06fc498ba66');\n",
              "          const dataTable =\n",
              "            await google.colab.kernel.invokeFunction('convertToInteractive',\n",
              "                                                     [key], {});\n",
              "          if (!dataTable) return;\n",
              "\n",
              "          const docLinkHtml = 'Like what you see? Visit the ' +\n",
              "            '<a target=\"_blank\" href=https://colab.research.google.com/notebooks/data_table.ipynb>data table notebook</a>'\n",
              "            + ' to learn more about interactive tables.';\n",
              "          element.innerHTML = '';\n",
              "          dataTable['output_type'] = 'display_data';\n",
              "          await google.colab.output.renderOutput(dataTable, element);\n",
              "          const docLink = document.createElement('div');\n",
              "          docLink.innerHTML = docLinkHtml;\n",
              "          element.appendChild(docLink);\n",
              "        }\n",
              "      </script>\n",
              "    </div>\n",
              "  </div>\n",
              "  "
            ]
          },
          "metadata": {},
          "execution_count": 130
        }
      ]
    },
    {
      "cell_type": "markdown",
      "metadata": {
        "id": "R_RWq_QAywtB"
      },
      "source": [
        "### Taking rolling averages to reduce noise"
      ]
    },
    {
      "cell_type": "code",
      "metadata": {
        "id": "6YPTsrsHywtB"
      },
      "source": [
        "window = 5"
      ],
      "execution_count": null,
      "outputs": []
    },
    {
      "cell_type": "code",
      "metadata": {
        "colab": {
          "base_uri": "https://localhost:8080/",
          "height": 206
        },
        "id": "4XN-aaASywtC",
        "outputId": "28231fd4-06b9-4eb2-dafd-0d70438ee552"
      },
      "source": [
        "df_train_mean = df_train.groupby(\"DE_time\")[feats].rolling(window = window).mean()\n",
        "df_train_mean = df_train_mean.reset_index()\n",
        "df_train_mean.dropna(inplace = True)\n",
        "df_train_mean.drop(['level_1'], axis = 1, inplace = True)\n",
        "df_train_mean.head()"
      ],
      "execution_count": null,
      "outputs": [
        {
          "output_type": "execute_result",
          "data": {
            "text/plain": [
              "       DE_time   FE_time  RPM  Fault Diameter  Motor Load  Fault   BA_time\n",
              "1503 -0.273596  0.018241 -1.0            -1.0        -1.0   -1.0  0.161758\n",
              "1590 -0.264127 -0.034615 -1.0            -1.0        -1.0   -1.0  0.056333\n",
              "2231 -0.196440 -0.189837 -1.0            -1.0        -1.0   -1.0  0.166638\n",
              "2258 -0.194687 -0.055939 -1.0            -1.0        -1.0   -1.0 -0.021511\n",
              "2317 -0.189777 -0.139718 -1.0            -1.0        -1.0   -1.0 -0.086094"
            ],
            "text/html": [
              "\n",
              "  <div id=\"df-0d2d2e2f-f27d-43f3-9b53-5b7d0585aea6\">\n",
              "    <div class=\"colab-df-container\">\n",
              "      <div>\n",
              "<style scoped>\n",
              "    .dataframe tbody tr th:only-of-type {\n",
              "        vertical-align: middle;\n",
              "    }\n",
              "\n",
              "    .dataframe tbody tr th {\n",
              "        vertical-align: top;\n",
              "    }\n",
              "\n",
              "    .dataframe thead th {\n",
              "        text-align: right;\n",
              "    }\n",
              "</style>\n",
              "<table border=\"1\" class=\"dataframe\">\n",
              "  <thead>\n",
              "    <tr style=\"text-align: right;\">\n",
              "      <th></th>\n",
              "      <th>DE_time</th>\n",
              "      <th>FE_time</th>\n",
              "      <th>RPM</th>\n",
              "      <th>Fault Diameter</th>\n",
              "      <th>Motor Load</th>\n",
              "      <th>Fault</th>\n",
              "      <th>BA_time</th>\n",
              "    </tr>\n",
              "  </thead>\n",
              "  <tbody>\n",
              "    <tr>\n",
              "      <th>1503</th>\n",
              "      <td>-0.273596</td>\n",
              "      <td>0.018241</td>\n",
              "      <td>-1.0</td>\n",
              "      <td>-1.0</td>\n",
              "      <td>-1.0</td>\n",
              "      <td>-1.0</td>\n",
              "      <td>0.161758</td>\n",
              "    </tr>\n",
              "    <tr>\n",
              "      <th>1590</th>\n",
              "      <td>-0.264127</td>\n",
              "      <td>-0.034615</td>\n",
              "      <td>-1.0</td>\n",
              "      <td>-1.0</td>\n",
              "      <td>-1.0</td>\n",
              "      <td>-1.0</td>\n",
              "      <td>0.056333</td>\n",
              "    </tr>\n",
              "    <tr>\n",
              "      <th>2231</th>\n",
              "      <td>-0.196440</td>\n",
              "      <td>-0.189837</td>\n",
              "      <td>-1.0</td>\n",
              "      <td>-1.0</td>\n",
              "      <td>-1.0</td>\n",
              "      <td>-1.0</td>\n",
              "      <td>0.166638</td>\n",
              "    </tr>\n",
              "    <tr>\n",
              "      <th>2258</th>\n",
              "      <td>-0.194687</td>\n",
              "      <td>-0.055939</td>\n",
              "      <td>-1.0</td>\n",
              "      <td>-1.0</td>\n",
              "      <td>-1.0</td>\n",
              "      <td>-1.0</td>\n",
              "      <td>-0.021511</td>\n",
              "    </tr>\n",
              "    <tr>\n",
              "      <th>2317</th>\n",
              "      <td>-0.189777</td>\n",
              "      <td>-0.139718</td>\n",
              "      <td>-1.0</td>\n",
              "      <td>-1.0</td>\n",
              "      <td>-1.0</td>\n",
              "      <td>-1.0</td>\n",
              "      <td>-0.086094</td>\n",
              "    </tr>\n",
              "  </tbody>\n",
              "</table>\n",
              "</div>\n",
              "      <button class=\"colab-df-convert\" onclick=\"convertToInteractive('df-0d2d2e2f-f27d-43f3-9b53-5b7d0585aea6')\"\n",
              "              title=\"Convert this dataframe to an interactive table.\"\n",
              "              style=\"display:none;\">\n",
              "        \n",
              "  <svg xmlns=\"http://www.w3.org/2000/svg\" height=\"24px\"viewBox=\"0 0 24 24\"\n",
              "       width=\"24px\">\n",
              "    <path d=\"M0 0h24v24H0V0z\" fill=\"none\"/>\n",
              "    <path d=\"M18.56 5.44l.94 2.06.94-2.06 2.06-.94-2.06-.94-.94-2.06-.94 2.06-2.06.94zm-11 1L8.5 8.5l.94-2.06 2.06-.94-2.06-.94L8.5 2.5l-.94 2.06-2.06.94zm10 10l.94 2.06.94-2.06 2.06-.94-2.06-.94-.94-2.06-.94 2.06-2.06.94z\"/><path d=\"M17.41 7.96l-1.37-1.37c-.4-.4-.92-.59-1.43-.59-.52 0-1.04.2-1.43.59L10.3 9.45l-7.72 7.72c-.78.78-.78 2.05 0 2.83L4 21.41c.39.39.9.59 1.41.59.51 0 1.02-.2 1.41-.59l7.78-7.78 2.81-2.81c.8-.78.8-2.07 0-2.86zM5.41 20L4 18.59l7.72-7.72 1.47 1.35L5.41 20z\"/>\n",
              "  </svg>\n",
              "      </button>\n",
              "      \n",
              "  <style>\n",
              "    .colab-df-container {\n",
              "      display:flex;\n",
              "      flex-wrap:wrap;\n",
              "      gap: 12px;\n",
              "    }\n",
              "\n",
              "    .colab-df-convert {\n",
              "      background-color: #E8F0FE;\n",
              "      border: none;\n",
              "      border-radius: 50%;\n",
              "      cursor: pointer;\n",
              "      display: none;\n",
              "      fill: #1967D2;\n",
              "      height: 32px;\n",
              "      padding: 0 0 0 0;\n",
              "      width: 32px;\n",
              "    }\n",
              "\n",
              "    .colab-df-convert:hover {\n",
              "      background-color: #E2EBFA;\n",
              "      box-shadow: 0px 1px 2px rgba(60, 64, 67, 0.3), 0px 1px 3px 1px rgba(60, 64, 67, 0.15);\n",
              "      fill: #174EA6;\n",
              "    }\n",
              "\n",
              "    [theme=dark] .colab-df-convert {\n",
              "      background-color: #3B4455;\n",
              "      fill: #D2E3FC;\n",
              "    }\n",
              "\n",
              "    [theme=dark] .colab-df-convert:hover {\n",
              "      background-color: #434B5C;\n",
              "      box-shadow: 0px 1px 3px 1px rgba(0, 0, 0, 0.15);\n",
              "      filter: drop-shadow(0px 1px 2px rgba(0, 0, 0, 0.3));\n",
              "      fill: #FFFFFF;\n",
              "    }\n",
              "  </style>\n",
              "\n",
              "      <script>\n",
              "        const buttonEl =\n",
              "          document.querySelector('#df-0d2d2e2f-f27d-43f3-9b53-5b7d0585aea6 button.colab-df-convert');\n",
              "        buttonEl.style.display =\n",
              "          google.colab.kernel.accessAllowed ? 'block' : 'none';\n",
              "\n",
              "        async function convertToInteractive(key) {\n",
              "          const element = document.querySelector('#df-0d2d2e2f-f27d-43f3-9b53-5b7d0585aea6');\n",
              "          const dataTable =\n",
              "            await google.colab.kernel.invokeFunction('convertToInteractive',\n",
              "                                                     [key], {});\n",
              "          if (!dataTable) return;\n",
              "\n",
              "          const docLinkHtml = 'Like what you see? Visit the ' +\n",
              "            '<a target=\"_blank\" href=https://colab.research.google.com/notebooks/data_table.ipynb>data table notebook</a>'\n",
              "            + ' to learn more about interactive tables.';\n",
              "          element.innerHTML = '';\n",
              "          dataTable['output_type'] = 'display_data';\n",
              "          await google.colab.output.renderOutput(dataTable, element);\n",
              "          const docLink = document.createElement('div');\n",
              "          docLink.innerHTML = docLinkHtml;\n",
              "          element.appendChild(docLink);\n",
              "        }\n",
              "      </script>\n",
              "    </div>\n",
              "  </div>\n",
              "  "
            ]
          },
          "metadata": {},
          "execution_count": 149
        }
      ]
    },
    {
      "cell_type": "code",
      "metadata": {
        "colab": {
          "base_uri": "https://localhost:8080/"
        },
        "id": "_yuToGIpywtC",
        "outputId": "029fa4c5-6f77-4532-9651-7796f2ad388e"
      },
      "source": [
        "df_train_mean.shape"
      ],
      "execution_count": null,
      "outputs": [
        {
          "output_type": "execute_result",
          "data": {
            "text/plain": [
              "(85133, 7)"
            ]
          },
          "metadata": {},
          "execution_count": 150
        }
      ]
    },
    {
      "cell_type": "markdown",
      "metadata": {
        "id": "BQ29jZoMywtD"
      },
      "source": [
        "### Selecting features using monotonicity"
      ]
    },
    {
      "cell_type": "markdown",
      "metadata": {
        "id": "CEPUQmfdywtE"
      },
      "source": [
        "\\begin{equation*}\n",
        "Monotonicity (x) = \\frac{1}{m}\\sum_{j=1}^m \\frac{|\\text{number of positive diff} (x_j) - \\text{number of negative diff} (x_j)|}{n-1}\n",
        "\\end{equation*}"
      ]
    },
    {
      "cell_type": "markdown",
      "metadata": {
        "id": "U47IXiEUywtE"
      },
      "source": [
        "where n is the length of data and m is the number of units. diff(x_j) is the lag difference of specific feature. "
      ]
    },
    {
      "cell_type": "code",
      "metadata": {
        "colab": {
          "base_uri": "https://localhost:8080/",
          "height": 206
        },
        "id": "XUqZZtRnywtF",
        "outputId": "af474631-855e-4bb0-b77f-a24a5a25448f"
      },
      "source": [
        "df_lag = df_train_mean.groupby(\"DE_time\").diff(1)\n",
        "df_lag[\"DE_time\"] = df_train_mean[\"DE_time\"]\n",
        "df_lag.dropna(inplace = True)\n",
        "df_lag = df_lag.reset_index(drop = True)\n",
        "df_lag.head()"
      ],
      "execution_count": null,
      "outputs": [
        {
          "output_type": "execute_result",
          "data": {
            "text/plain": [
              "    FE_time  RPM  Fault Diameter  Motor Load  Fault   BA_time   DE_time\n",
              "0 -0.012682  0.0             0.0         0.0    0.0 -0.128366 -0.161896\n",
              "1 -0.075092  0.0             0.0         0.0    0.0  0.094105 -0.157775\n",
              "2  0.014593  0.0             0.0         0.0    0.0 -0.003500 -0.157073\n",
              "3  0.039088  0.0             0.0         0.0    0.0  0.043922 -0.156810\n",
              "4  0.027752  0.0             0.0         0.0    0.0 -0.099085 -0.152339"
            ],
            "text/html": [
              "\n",
              "  <div id=\"df-e9552ac1-a5a3-444c-a2af-248bbb4c9205\">\n",
              "    <div class=\"colab-df-container\">\n",
              "      <div>\n",
              "<style scoped>\n",
              "    .dataframe tbody tr th:only-of-type {\n",
              "        vertical-align: middle;\n",
              "    }\n",
              "\n",
              "    .dataframe tbody tr th {\n",
              "        vertical-align: top;\n",
              "    }\n",
              "\n",
              "    .dataframe thead th {\n",
              "        text-align: right;\n",
              "    }\n",
              "</style>\n",
              "<table border=\"1\" class=\"dataframe\">\n",
              "  <thead>\n",
              "    <tr style=\"text-align: right;\">\n",
              "      <th></th>\n",
              "      <th>FE_time</th>\n",
              "      <th>RPM</th>\n",
              "      <th>Fault Diameter</th>\n",
              "      <th>Motor Load</th>\n",
              "      <th>Fault</th>\n",
              "      <th>BA_time</th>\n",
              "      <th>DE_time</th>\n",
              "    </tr>\n",
              "  </thead>\n",
              "  <tbody>\n",
              "    <tr>\n",
              "      <th>0</th>\n",
              "      <td>-0.012682</td>\n",
              "      <td>0.0</td>\n",
              "      <td>0.0</td>\n",
              "      <td>0.0</td>\n",
              "      <td>0.0</td>\n",
              "      <td>-0.128366</td>\n",
              "      <td>-0.161896</td>\n",
              "    </tr>\n",
              "    <tr>\n",
              "      <th>1</th>\n",
              "      <td>-0.075092</td>\n",
              "      <td>0.0</td>\n",
              "      <td>0.0</td>\n",
              "      <td>0.0</td>\n",
              "      <td>0.0</td>\n",
              "      <td>0.094105</td>\n",
              "      <td>-0.157775</td>\n",
              "    </tr>\n",
              "    <tr>\n",
              "      <th>2</th>\n",
              "      <td>0.014593</td>\n",
              "      <td>0.0</td>\n",
              "      <td>0.0</td>\n",
              "      <td>0.0</td>\n",
              "      <td>0.0</td>\n",
              "      <td>-0.003500</td>\n",
              "      <td>-0.157073</td>\n",
              "    </tr>\n",
              "    <tr>\n",
              "      <th>3</th>\n",
              "      <td>0.039088</td>\n",
              "      <td>0.0</td>\n",
              "      <td>0.0</td>\n",
              "      <td>0.0</td>\n",
              "      <td>0.0</td>\n",
              "      <td>0.043922</td>\n",
              "      <td>-0.156810</td>\n",
              "    </tr>\n",
              "    <tr>\n",
              "      <th>4</th>\n",
              "      <td>0.027752</td>\n",
              "      <td>0.0</td>\n",
              "      <td>0.0</td>\n",
              "      <td>0.0</td>\n",
              "      <td>0.0</td>\n",
              "      <td>-0.099085</td>\n",
              "      <td>-0.152339</td>\n",
              "    </tr>\n",
              "  </tbody>\n",
              "</table>\n",
              "</div>\n",
              "      <button class=\"colab-df-convert\" onclick=\"convertToInteractive('df-e9552ac1-a5a3-444c-a2af-248bbb4c9205')\"\n",
              "              title=\"Convert this dataframe to an interactive table.\"\n",
              "              style=\"display:none;\">\n",
              "        \n",
              "  <svg xmlns=\"http://www.w3.org/2000/svg\" height=\"24px\"viewBox=\"0 0 24 24\"\n",
              "       width=\"24px\">\n",
              "    <path d=\"M0 0h24v24H0V0z\" fill=\"none\"/>\n",
              "    <path d=\"M18.56 5.44l.94 2.06.94-2.06 2.06-.94-2.06-.94-.94-2.06-.94 2.06-2.06.94zm-11 1L8.5 8.5l.94-2.06 2.06-.94-2.06-.94L8.5 2.5l-.94 2.06-2.06.94zm10 10l.94 2.06.94-2.06 2.06-.94-2.06-.94-.94-2.06-.94 2.06-2.06.94z\"/><path d=\"M17.41 7.96l-1.37-1.37c-.4-.4-.92-.59-1.43-.59-.52 0-1.04.2-1.43.59L10.3 9.45l-7.72 7.72c-.78.78-.78 2.05 0 2.83L4 21.41c.39.39.9.59 1.41.59.51 0 1.02-.2 1.41-.59l7.78-7.78 2.81-2.81c.8-.78.8-2.07 0-2.86zM5.41 20L4 18.59l7.72-7.72 1.47 1.35L5.41 20z\"/>\n",
              "  </svg>\n",
              "      </button>\n",
              "      \n",
              "  <style>\n",
              "    .colab-df-container {\n",
              "      display:flex;\n",
              "      flex-wrap:wrap;\n",
              "      gap: 12px;\n",
              "    }\n",
              "\n",
              "    .colab-df-convert {\n",
              "      background-color: #E8F0FE;\n",
              "      border: none;\n",
              "      border-radius: 50%;\n",
              "      cursor: pointer;\n",
              "      display: none;\n",
              "      fill: #1967D2;\n",
              "      height: 32px;\n",
              "      padding: 0 0 0 0;\n",
              "      width: 32px;\n",
              "    }\n",
              "\n",
              "    .colab-df-convert:hover {\n",
              "      background-color: #E2EBFA;\n",
              "      box-shadow: 0px 1px 2px rgba(60, 64, 67, 0.3), 0px 1px 3px 1px rgba(60, 64, 67, 0.15);\n",
              "      fill: #174EA6;\n",
              "    }\n",
              "\n",
              "    [theme=dark] .colab-df-convert {\n",
              "      background-color: #3B4455;\n",
              "      fill: #D2E3FC;\n",
              "    }\n",
              "\n",
              "    [theme=dark] .colab-df-convert:hover {\n",
              "      background-color: #434B5C;\n",
              "      box-shadow: 0px 1px 3px 1px rgba(0, 0, 0, 0.15);\n",
              "      filter: drop-shadow(0px 1px 2px rgba(0, 0, 0, 0.3));\n",
              "      fill: #FFFFFF;\n",
              "    }\n",
              "  </style>\n",
              "\n",
              "      <script>\n",
              "        const buttonEl =\n",
              "          document.querySelector('#df-e9552ac1-a5a3-444c-a2af-248bbb4c9205 button.colab-df-convert');\n",
              "        buttonEl.style.display =\n",
              "          google.colab.kernel.accessAllowed ? 'block' : 'none';\n",
              "\n",
              "        async function convertToInteractive(key) {\n",
              "          const element = document.querySelector('#df-e9552ac1-a5a3-444c-a2af-248bbb4c9205');\n",
              "          const dataTable =\n",
              "            await google.colab.kernel.invokeFunction('convertToInteractive',\n",
              "                                                     [key], {});\n",
              "          if (!dataTable) return;\n",
              "\n",
              "          const docLinkHtml = 'Like what you see? Visit the ' +\n",
              "            '<a target=\"_blank\" href=https://colab.research.google.com/notebooks/data_table.ipynb>data table notebook</a>'\n",
              "            + ' to learn more about interactive tables.';\n",
              "          element.innerHTML = '';\n",
              "          dataTable['output_type'] = 'display_data';\n",
              "          await google.colab.output.renderOutput(dataTable, element);\n",
              "          const docLink = document.createElement('div');\n",
              "          docLink.innerHTML = docLinkHtml;\n",
              "          element.appendChild(docLink);\n",
              "        }\n",
              "      </script>\n",
              "    </div>\n",
              "  </div>\n",
              "  "
            ]
          },
          "metadata": {},
          "execution_count": 151
        }
      ]
    },
    {
      "cell_type": "code",
      "metadata": {
        "id": "49SdyPqHywtF"
      },
      "source": [
        "def monotonicity(data):\n",
        "    \n",
        "    num_pos = data[data > 0].shape[0]\n",
        "    num_neg = data[data < 0].shape[0]\n",
        "    tot_n = data.shape[0] - 1\n",
        "    if tot_n==0:\n",
        "      tot_n+=randint(-100,1000);\n",
        "    mon_val = np.abs(num_pos - num_neg)/tot_n\n",
        "    return mon_val"
      ],
      "execution_count": null,
      "outputs": []
    },
    {
      "cell_type": "code",
      "metadata": {
        "id": "k6HuxAcFywtG"
      },
      "source": [
        "mon_df = pd.DataFrame(columns = ['feature', 'monotonicity_val'])\n",
        "\n",
        "for col in feats:\n",
        "    mon_val = []\n",
        "    for unit in df_lag.FE_time.unique():\n",
        "        mon_val.append(monotonicity(df_lag.loc[df_lag.FE_time == unit, col]))\n",
        "    mon_df = mon_df.append({'feature': col, 'monotonicity_val': np.mean(mon_val)}, ignore_index = True)"
      ],
      "execution_count": null,
      "outputs": []
    },
    {
      "cell_type": "code",
      "metadata": {
        "colab": {
          "base_uri": "https://localhost:8080/",
          "height": 269
        },
        "id": "bP7BsA1HywtG",
        "outputId": "1f36ee53-efc3-40f0-8a47-93a9a143516d"
      },
      "source": [
        "mon_df = mon_df.sort_values(by = 'monotonicity_val', ascending = False)\n",
        "mon_df"
      ],
      "execution_count": null,
      "outputs": [
        {
          "output_type": "execute_result",
          "data": {
            "text/plain": [
              "          feature  monotonicity_val\n",
              "0         FE_time          2.465000\n",
              "1         DE_time          2.429558\n",
              "6         BA_time          2.026623\n",
              "2             RPM          0.000000\n",
              "3  Fault Diameter          0.000000\n",
              "4      Motor Load          0.000000\n",
              "5           Fault          0.000000"
            ],
            "text/html": [
              "\n",
              "  <div id=\"df-63b69859-b198-47ff-bcd4-120c4c5467b1\">\n",
              "    <div class=\"colab-df-container\">\n",
              "      <div>\n",
              "<style scoped>\n",
              "    .dataframe tbody tr th:only-of-type {\n",
              "        vertical-align: middle;\n",
              "    }\n",
              "\n",
              "    .dataframe tbody tr th {\n",
              "        vertical-align: top;\n",
              "    }\n",
              "\n",
              "    .dataframe thead th {\n",
              "        text-align: right;\n",
              "    }\n",
              "</style>\n",
              "<table border=\"1\" class=\"dataframe\">\n",
              "  <thead>\n",
              "    <tr style=\"text-align: right;\">\n",
              "      <th></th>\n",
              "      <th>feature</th>\n",
              "      <th>monotonicity_val</th>\n",
              "    </tr>\n",
              "  </thead>\n",
              "  <tbody>\n",
              "    <tr>\n",
              "      <th>0</th>\n",
              "      <td>FE_time</td>\n",
              "      <td>2.465000</td>\n",
              "    </tr>\n",
              "    <tr>\n",
              "      <th>1</th>\n",
              "      <td>DE_time</td>\n",
              "      <td>2.429558</td>\n",
              "    </tr>\n",
              "    <tr>\n",
              "      <th>6</th>\n",
              "      <td>BA_time</td>\n",
              "      <td>2.026623</td>\n",
              "    </tr>\n",
              "    <tr>\n",
              "      <th>2</th>\n",
              "      <td>RPM</td>\n",
              "      <td>0.000000</td>\n",
              "    </tr>\n",
              "    <tr>\n",
              "      <th>3</th>\n",
              "      <td>Fault Diameter</td>\n",
              "      <td>0.000000</td>\n",
              "    </tr>\n",
              "    <tr>\n",
              "      <th>4</th>\n",
              "      <td>Motor Load</td>\n",
              "      <td>0.000000</td>\n",
              "    </tr>\n",
              "    <tr>\n",
              "      <th>5</th>\n",
              "      <td>Fault</td>\n",
              "      <td>0.000000</td>\n",
              "    </tr>\n",
              "  </tbody>\n",
              "</table>\n",
              "</div>\n",
              "      <button class=\"colab-df-convert\" onclick=\"convertToInteractive('df-63b69859-b198-47ff-bcd4-120c4c5467b1')\"\n",
              "              title=\"Convert this dataframe to an interactive table.\"\n",
              "              style=\"display:none;\">\n",
              "        \n",
              "  <svg xmlns=\"http://www.w3.org/2000/svg\" height=\"24px\"viewBox=\"0 0 24 24\"\n",
              "       width=\"24px\">\n",
              "    <path d=\"M0 0h24v24H0V0z\" fill=\"none\"/>\n",
              "    <path d=\"M18.56 5.44l.94 2.06.94-2.06 2.06-.94-2.06-.94-.94-2.06-.94 2.06-2.06.94zm-11 1L8.5 8.5l.94-2.06 2.06-.94-2.06-.94L8.5 2.5l-.94 2.06-2.06.94zm10 10l.94 2.06.94-2.06 2.06-.94-2.06-.94-.94-2.06-.94 2.06-2.06.94z\"/><path d=\"M17.41 7.96l-1.37-1.37c-.4-.4-.92-.59-1.43-.59-.52 0-1.04.2-1.43.59L10.3 9.45l-7.72 7.72c-.78.78-.78 2.05 0 2.83L4 21.41c.39.39.9.59 1.41.59.51 0 1.02-.2 1.41-.59l7.78-7.78 2.81-2.81c.8-.78.8-2.07 0-2.86zM5.41 20L4 18.59l7.72-7.72 1.47 1.35L5.41 20z\"/>\n",
              "  </svg>\n",
              "      </button>\n",
              "      \n",
              "  <style>\n",
              "    .colab-df-container {\n",
              "      display:flex;\n",
              "      flex-wrap:wrap;\n",
              "      gap: 12px;\n",
              "    }\n",
              "\n",
              "    .colab-df-convert {\n",
              "      background-color: #E8F0FE;\n",
              "      border: none;\n",
              "      border-radius: 50%;\n",
              "      cursor: pointer;\n",
              "      display: none;\n",
              "      fill: #1967D2;\n",
              "      height: 32px;\n",
              "      padding: 0 0 0 0;\n",
              "      width: 32px;\n",
              "    }\n",
              "\n",
              "    .colab-df-convert:hover {\n",
              "      background-color: #E2EBFA;\n",
              "      box-shadow: 0px 1px 2px rgba(60, 64, 67, 0.3), 0px 1px 3px 1px rgba(60, 64, 67, 0.15);\n",
              "      fill: #174EA6;\n",
              "    }\n",
              "\n",
              "    [theme=dark] .colab-df-convert {\n",
              "      background-color: #3B4455;\n",
              "      fill: #D2E3FC;\n",
              "    }\n",
              "\n",
              "    [theme=dark] .colab-df-convert:hover {\n",
              "      background-color: #434B5C;\n",
              "      box-shadow: 0px 1px 3px 1px rgba(0, 0, 0, 0.15);\n",
              "      filter: drop-shadow(0px 1px 2px rgba(0, 0, 0, 0.3));\n",
              "      fill: #FFFFFF;\n",
              "    }\n",
              "  </style>\n",
              "\n",
              "      <script>\n",
              "        const buttonEl =\n",
              "          document.querySelector('#df-63b69859-b198-47ff-bcd4-120c4c5467b1 button.colab-df-convert');\n",
              "        buttonEl.style.display =\n",
              "          google.colab.kernel.accessAllowed ? 'block' : 'none';\n",
              "\n",
              "        async function convertToInteractive(key) {\n",
              "          const element = document.querySelector('#df-63b69859-b198-47ff-bcd4-120c4c5467b1');\n",
              "          const dataTable =\n",
              "            await google.colab.kernel.invokeFunction('convertToInteractive',\n",
              "                                                     [key], {});\n",
              "          if (!dataTable) return;\n",
              "\n",
              "          const docLinkHtml = 'Like what you see? Visit the ' +\n",
              "            '<a target=\"_blank\" href=https://colab.research.google.com/notebooks/data_table.ipynb>data table notebook</a>'\n",
              "            + ' to learn more about interactive tables.';\n",
              "          element.innerHTML = '';\n",
              "          dataTable['output_type'] = 'display_data';\n",
              "          await google.colab.output.renderOutput(dataTable, element);\n",
              "          const docLink = document.createElement('div');\n",
              "          docLink.innerHTML = docLinkHtml;\n",
              "          element.appendChild(docLink);\n",
              "        }\n",
              "      </script>\n",
              "    </div>\n",
              "  </div>\n",
              "  "
            ]
          },
          "metadata": {},
          "execution_count": 155
        }
      ]
    },
    {
      "cell_type": "code",
      "metadata": {
        "colab": {
          "base_uri": "https://localhost:8080/",
          "height": 867
        },
        "id": "X8njgdSzywtH",
        "outputId": "e6198652-f5c7-4f45-9f80-f063ca85ec18"
      },
      "source": [
        "fig, ax = plt.subplots(figsize = (7,10))\n",
        "\n",
        "sns.barplot(y = mon_df.feature, x = mon_df.monotonicity_val)"
      ],
      "execution_count": null,
      "outputs": [
        {
          "output_type": "execute_result",
          "data": {
            "text/plain": [
              "<matplotlib.axes._subplots.AxesSubplot at 0x7febe8649750>"
            ]
          },
          "metadata": {},
          "execution_count": 156
        },
        {
          "output_type": "display_data",
          "data": {
            "text/plain": [
              "<Figure size 700x1000 with 1 Axes>"
            ],
            "image/png": "[encoded data removed]"
          },
          "metadata": {}
        }
      ]
    },
    {
      "cell_type": "markdown",
      "metadata": {
        "id": "3e2fzAR3ywtH"
      },
      "source": [
        "Features with monotonicity value larger than 0.08 are selected."
      ]
    },
    {
      "cell_type": "code",
      "metadata": {
        "colab": {
          "base_uri": "https://localhost:8080/"
        },
        "id": "qZNPbHwYywtI",
        "outputId": "94c1c4d2-54e9-4e6b-ee77-c0559328735d"
      },
      "source": [
        "feats = mon_df.feature[mon_df.monotonicity_val > 0.08]\n",
        "feats"
      ],
      "execution_count": null,
      "outputs": [
        {
          "output_type": "execute_result",
          "data": {
            "text/plain": [
              "0    FE_time\n",
              "1    DE_time\n",
              "6    BA_time\n",
              "Name: feature, dtype: object"
            ]
          },
          "metadata": {},
          "execution_count": 157
        }
      ]
    },
    {
      "cell_type": "code",
      "metadata": {
        "colab": {
          "base_uri": "https://localhost:8080/"
        },
        "id": "8wJPfO62ywtI",
        "outputId": "e9e722ce-ed66-4d20-fa37-dd7047b2a405"
      },
      "source": [
        "len(feats)"
      ],
      "execution_count": null,
      "outputs": [
        {
          "output_type": "execute_result",
          "data": {
            "text/plain": [
              "3"
            ]
          },
          "metadata": {},
          "execution_count": 158
        }
      ]
    },
    {
      "cell_type": "markdown",
      "metadata": {
        "id": "A1ZnpCX2ywtJ"
      },
      "source": [
        "### PCA to fuse features"
      ]
    },
    {
      "cell_type": "code",
      "metadata": {
        "id": "fyCHeHl_ywtJ"
      },
      "source": [
        "from sklearn.decomposition import PCA"
      ],
      "execution_count": null,
      "outputs": []
    },
    {
      "cell_type": "code",
      "metadata": {
        "colab": {
          "base_uri": "https://localhost:8080/",
          "height": 206
        },
        "id": "CpSb8869ywtJ",
        "outputId": "5e96d742-2ccb-4ed1-97b4-11163697d927"
      },
      "source": [
        "pca = PCA(n_components=3)\n",
        "\n",
        "pca_data = pca.fit_transform(df_train_mean[feats])\n",
        "\n",
        "pca_df = pd.DataFrame(pca_data, columns = ['pc1', 'pc2', 'pc3'])\n",
        "pca_df['FE_time'] = df_train_mean.FE_time.values\n",
        "pca_df['cycle'] = pca_df.groupby('FE_time').cumcount()+1\n",
        "pca_df.head()"
      ],
      "execution_count": null,
      "outputs": [
        {
          "output_type": "execute_result",
          "data": {
            "text/plain": [
              "        pc1       pc2       pc3   FE_time  cycle\n",
              "0  0.047235 -0.073089  0.224493  0.018241      1\n",
              "1 -0.069738 -0.070566  0.206918 -0.034615      1\n",
              "2 -0.035631  0.124446  0.166299 -0.189837      1\n",
              "3 -0.143825 -0.076444  0.130676 -0.055939      1\n",
              "4 -0.238433 -0.029195  0.125123 -0.139718      1"
            ],
            "text/html": [
              "\n",
              "  <div id=\"df-6642b096-0e7e-4782-a4b6-4ae7b4ffd733\">\n",
              "    <div class=\"colab-df-container\">\n",
              "      <div>\n",
              "<style scoped>\n",
              "    .dataframe tbody tr th:only-of-type {\n",
              "        vertical-align: middle;\n",
              "    }\n",
              "\n",
              "    .dataframe tbody tr th {\n",
              "        vertical-align: top;\n",
              "    }\n",
              "\n",
              "    .dataframe thead th {\n",
              "        text-align: right;\n",
              "    }\n",
              "</style>\n",
              "<table border=\"1\" class=\"dataframe\">\n",
              "  <thead>\n",
              "    <tr style=\"text-align: right;\">\n",
              "      <th></th>\n",
              "      <th>pc1</th>\n",
              "      <th>pc2</th>\n",
              "      <th>pc3</th>\n",
              "      <th>FE_time</th>\n",
              "      <th>cycle</th>\n",
              "    </tr>\n",
              "  </thead>\n",
              "  <tbody>\n",
              "    <tr>\n",
              "      <th>0</th>\n",
              "      <td>0.047235</td>\n",
              "      <td>-0.073089</td>\n",
              "      <td>0.224493</td>\n",
              "      <td>0.018241</td>\n",
              "      <td>1</td>\n",
              "    </tr>\n",
              "    <tr>\n",
              "      <th>1</th>\n",
              "      <td>-0.069738</td>\n",
              "      <td>-0.070566</td>\n",
              "      <td>0.206918</td>\n",
              "      <td>-0.034615</td>\n",
              "      <td>1</td>\n",
              "    </tr>\n",
              "    <tr>\n",
              "      <th>2</th>\n",
              "      <td>-0.035631</td>\n",
              "      <td>0.124446</td>\n",
              "      <td>0.166299</td>\n",
              "      <td>-0.189837</td>\n",
              "      <td>1</td>\n",
              "    </tr>\n",
              "    <tr>\n",
              "      <th>3</th>\n",
              "      <td>-0.143825</td>\n",
              "      <td>-0.076444</td>\n",
              "      <td>0.130676</td>\n",
              "      <td>-0.055939</td>\n",
              "      <td>1</td>\n",
              "    </tr>\n",
              "    <tr>\n",
              "      <th>4</th>\n",
              "      <td>-0.238433</td>\n",
              "      <td>-0.029195</td>\n",
              "      <td>0.125123</td>\n",
              "      <td>-0.139718</td>\n",
              "      <td>1</td>\n",
              "    </tr>\n",
              "  </tbody>\n",
              "</table>\n",
              "</div>\n",
              "      <button class=\"colab-df-convert\" onclick=\"convertToInteractive('df-6642b096-0e7e-4782-a4b6-4ae7b4ffd733')\"\n",
              "              title=\"Convert this dataframe to an interactive table.\"\n",
              "              style=\"display:none;\">\n",
              "        \n",
              "  <svg xmlns=\"http://www.w3.org/2000/svg\" height=\"24px\"viewBox=\"0 0 24 24\"\n",
              "       width=\"24px\">\n",
              "    <path d=\"M0 0h24v24H0V0z\" fill=\"none\"/>\n",
              "    <path d=\"M18.56 5.44l.94 2.06.94-2.06 2.06-.94-2.06-.94-.94-2.06-.94 2.06-2.06.94zm-11 1L8.5 8.5l.94-2.06 2.06-.94-2.06-.94L8.5 2.5l-.94 2.06-2.06.94zm10 10l.94 2.06.94-2.06 2.06-.94-2.06-.94-.94-2.06-.94 2.06-2.06.94z\"/><path d=\"M17.41 7.96l-1.37-1.37c-.4-.4-.92-.59-1.43-.59-.52 0-1.04.2-1.43.59L10.3 9.45l-7.72 7.72c-.78.78-.78 2.05 0 2.83L4 21.41c.39.39.9.59 1.41.59.51 0 1.02-.2 1.41-.59l7.78-7.78 2.81-2.81c.8-.78.8-2.07 0-2.86zM5.41 20L4 18.59l7.72-7.72 1.47 1.35L5.41 20z\"/>\n",
              "  </svg>\n",
              "      </button>\n",
              "      \n",
              "  <style>\n",
              "    .colab-df-container {\n",
              "      display:flex;\n",
              "      flex-wrap:wrap;\n",
              "      gap: 12px;\n",
              "    }\n",
              "\n",
              "    .colab-df-convert {\n",
              "      background-color: #E8F0FE;\n",
              "      border: none;\n",
              "      border-radius: 50%;\n",
              "      cursor: pointer;\n",
              "      display: none;\n",
              "      fill: #1967D2;\n",
              "      height: 32px;\n",
              "      padding: 0 0 0 0;\n",
              "      width: 32px;\n",
              "    }\n",
              "\n",
              "    .colab-df-convert:hover {\n",
              "      background-color: #E2EBFA;\n",
              "      box-shadow: 0px 1px 2px rgba(60, 64, 67, 0.3), 0px 1px 3px 1px rgba(60, 64, 67, 0.15);\n",
              "      fill: #174EA6;\n",
              "    }\n",
              "\n",
              "    [theme=dark] .colab-df-convert {\n",
              "      background-color: #3B4455;\n",
              "      fill: #D2E3FC;\n",
              "    }\n",
              "\n",
              "    [theme=dark] .colab-df-convert:hover {\n",
              "      background-color: #434B5C;\n",
              "      box-shadow: 0px 1px 3px 1px rgba(0, 0, 0, 0.15);\n",
              "      filter: drop-shadow(0px 1px 2px rgba(0, 0, 0, 0.3));\n",
              "      fill: #FFFFFF;\n",
              "    }\n",
              "  </style>\n",
              "\n",
              "      <script>\n",
              "        const buttonEl =\n",
              "          document.querySelector('#df-6642b096-0e7e-4782-a4b6-4ae7b4ffd733 button.colab-df-convert');\n",
              "        buttonEl.style.display =\n",
              "          google.colab.kernel.accessAllowed ? 'block' : 'none';\n",
              "\n",
              "        async function convertToInteractive(key) {\n",
              "          const element = document.querySelector('#df-6642b096-0e7e-4782-a4b6-4ae7b4ffd733');\n",
              "          const dataTable =\n",
              "            await google.colab.kernel.invokeFunction('convertToInteractive',\n",
              "                                                     [key], {});\n",
              "          if (!dataTable) return;\n",
              "\n",
              "          const docLinkHtml = 'Like what you see? Visit the ' +\n",
              "            '<a target=\"_blank\" href=https://colab.research.google.com/notebooks/data_table.ipynb>data table notebook</a>'\n",
              "            + ' to learn more about interactive tables.';\n",
              "          element.innerHTML = '';\n",
              "          dataTable['output_type'] = 'display_data';\n",
              "          await google.colab.output.renderOutput(dataTable, element);\n",
              "          const docLink = document.createElement('div');\n",
              "          docLink.innerHTML = docLinkHtml;\n",
              "          element.appendChild(docLink);\n",
              "        }\n",
              "      </script>\n",
              "    </div>\n",
              "  </div>\n",
              "  "
            ]
          },
          "metadata": {},
          "execution_count": 160
        }
      ]
    },
    {
      "cell_type": "markdown",
      "metadata": {
        "id": "MyCncuf7ywtK"
      },
      "source": [
        "### Visualizing principal components"
      ]
    },
    {
      "cell_type": "code",
      "metadata": {
        "id": "CR1NgJORywtK"
      },
      "source": [
        "pcs = ['pc1', 'pc2', 'pc3']"
      ],
      "execution_count": null,
      "outputs": []
    },
    {
      "cell_type": "code",
      "metadata": {
        "scrolled": false,
        "colab": {
          "base_uri": "https://localhost:8080/",
          "height": 775
        },
        "id": "kMXBJu67ywtL",
        "outputId": "92a0567a-72a6-4742-8029-08d06ee3a43a"
      },
      "source": [
        "sns.pairplot(data = pca_df[pca_df.UnitNumber == 1], x_vars= pcs, y_vars = pcs)"
      ],
      "execution_count": null,
      "outputs": [
        {
          "output_type": "execute_result",
          "data": {
            "text/plain": [
              "<seaborn.axisgrid.PairGrid at 0x7febea2596d0>"
            ]
          },
          "metadata": {},
          "execution_count": 76
        },
        {
          "output_type": "display_data",
          "data": {
            "text/plain": [
              "<Figure size 750x750 with 12 Axes>"
            ],
            "image/png": "[encoded data removed]"
          },
          "metadata": {}
        }
      ]
    },
    {
      "cell_type": "markdown",
      "metadata": {
        "id": "BKDmZNgHywtL"
      },
      "source": [
        "#### Choosing PC1 and PC2 and plotting"
      ]
    },
    {
      "cell_type": "code",
      "metadata": {
        "colab": {
          "base_uri": "https://localhost:8080/",
          "height": 466
        },
        "id": "ujjp4IzKywtM",
        "outputId": "b13413b5-2fce-484b-9f7e-a2ad1f230222"
      },
      "source": [
        "sns.scatterplot(data = pca_df[pca_df.FE_time>0], x = \"pc1\", y = \"pc2\")"
      ],
      "execution_count": null,
      "outputs": [
        {
          "output_type": "execute_result",
          "data": {
            "text/plain": [
              "<matplotlib.axes._subplots.AxesSubplot at 0x7febea42cf10>"
            ]
          },
          "metadata": {},
          "execution_count": 173
        },
        {
          "output_type": "display_data",
          "data": {
            "text/plain": [
              "<Figure size 640x480 with 1 Axes>"
            ],
            "image/png": "[encoded data removed]"
          },
          "metadata": {}
        }
      ]
    },
    {
      "cell_type": "markdown",
      "metadata": {
        "id": "JO8rHXn7ywtM"
      },
      "source": [
        "#### Considering PC1 as a health indicator and visualizing against cycle"
      ]
    },
    {
      "cell_type": "code",
      "metadata": {
        "colab": {
          "base_uri": "https://localhost:8080/",
          "height": 466
        },
        "id": "tjy6JxBDywtM",
        "outputId": "97a36733-d1b4-45fc-bab7-437b29e3c639"
      },
      "source": [
        "fig, ax = plt.subplots()\n",
        "sns.lineplot(data = pca_df[pca_df.FE_time>0], x = \"pc2\", y = \"pc1\", ax = ax)\n",
        "plt.axhline(pca_df[pca_df.FE_time > 0].pc1.max(), color = 'r')\n",
        "ax.set_ylabel(\"Health Indicator\")"
      ],
      "execution_count": null,
      "outputs": [
        {
          "output_type": "execute_result",
          "data": {
            "text/plain": [
              "Text(0, 0.5, 'Health Indicator')"
            ]
          },
          "metadata": {},
          "execution_count": 202
        },
        {
          "output_type": "display_data",
          "data": {
            "text/plain": [
              "<Figure size 640x480 with 1 Axes>"
            ],
            "image/png": "[encoded data removed]"
          },
          "metadata": {}
        }
      ]
    },
    {
      "cell_type": "markdown",
      "metadata": {
        "id": "14D2_Q46ywtR"
      },
      "source": [
        "### Exponential Degradation"
      ]
    },
    {
      "cell_type": "markdown",
      "metadata": {
        "id": "lS4dfII-ywtR"
      },
      "source": [
        "Exponential degradation model can be defined as below"
      ]
    },
    {
      "cell_type": "markdown",
      "metadata": {
        "id": "LHVTlqohywtR"
      },
      "source": [
        "\\begin{equation*}\n",
        "h(t) = \\phi + \\theta \\ exp ( \\beta t )\n",
        "\\end{equation*}"
      ]
    },
    {
      "cell_type": "markdown",
      "metadata": {
        "id": "JK5vHShzywtS"
      },
      "source": [
        "- where $h(t)$ is the health indicator as a function of time. \n",
        "- $\\phi$ is the intercept term considered as a constant. \n",
        "- $\\theta$ and $\\beta$  are random parameters determining the slope of the model, where $\\theta$ is lognormal-distributed and $\\beta$ is Gaussian-distributed."
      ]
    },
    {
      "cell_type": "markdown",
      "metadata": {
        "id": "9nFi2eXDywtS"
      },
      "source": [
        "Fitting the exponential degradation curve for all units in train data"
      ]
    },
    {
      "cell_type": "code",
      "metadata": {
        "id": "y8VhZNroywtT"
      },
      "source": [
        "def exp_degradation(parameters, cycle):\n",
        "    '''\n",
        "    Calculate an exponetial degradation of the form:\n",
        "    ht = phi + theta * exp(beta * cycle)\n",
        "    ''' \n",
        "    phi = parameters[0]\n",
        "    theta = parameters[1]\n",
        "    beta = parameters[2]\n",
        "    \n",
        "    ht = phi + theta * np.exp(beta * cycle)\n",
        "    return ht"
      ],
      "execution_count": null,
      "outputs": []
    },
    {
      "cell_type": "code",
      "metadata": {
        "id": "ok9xlEZ1ywtT"
      },
      "source": [
        "def residuals(parameters, data, y_observed, func):\n",
        "    '''\n",
        "    Compute residuals of y_predicted - y_observed\n",
        "    where:\n",
        "    y_predicted = func(parameters,x_data)\n",
        "    '''\n",
        "    return func(parameters, data) - y_observed"
      ],
      "execution_count": null,
      "outputs": []
    },
    {
      "cell_type": "markdown",
      "metadata": {
        "id": "9baex6icywtU"
      },
      "source": [
        "Initial values for parameters"
      ]
    },
    {
      "cell_type": "code",
      "metadata": {
        "id": "Zu_EFYjDywtU"
      },
      "source": [
        "param_0 = [-1, 0.01, 0.01]"
      ],
      "execution_count": null,
      "outputs": []
    },
    {
      "cell_type": "code",
      "metadata": {
        "id": "swOrhlWTywtU"
      },
      "source": [
        "exp_params_df = pd.DataFrame(columns = ['FE_time', 'phi', 'theta', 'beta'])\n",
        "\n",
        "for i in range(1,101):\n",
        "    \n",
        "    ht = pca_df.pc1[pca_df.FE_time!=0]\n",
        "    cycle = pca_df.pc2[pca_df.FE_time!=0]\n",
        "\n",
        "    OptimizeResult = optimize.least_squares(residuals, param_0, args = (cycle, ht, exp_degradation))\n",
        "    phi, theta, beta = param_0\n",
        "    \n",
        "    exp_params_df = exp_params_df.append({'UnitNumber':i, 'phi': phi, 'theta': theta, 'beta': beta}, ignore_index = True)"
      ],
      "execution_count": null,
      "outputs": []
    },
    {
      "cell_type": "code",
      "metadata": {
        "id": "nOpXnfj_ywtV"
      },
      "source": [
        ""
      ],
      "execution_count": null,
      "outputs": []
    },
    {
      "cell_type": "markdown",
      "metadata": {
        "id": "b9Bd8gugywtV"
      },
      "source": [
        "#### Visualizing fitted exponential curve"
      ]
    },
    {
      "cell_type": "code",
      "metadata": {
        "colab": {
          "base_uri": "https://localhost:8080/"
        },
        "id": "KD_CR342ywtV",
        "outputId": "bc37531d-8da1-423a-a587-23460f4d1cb1"
      },
      "source": [
        "phi = exp_params_df.phi[exp_params_df.FE_time !=0 ].values\n",
        "theta = exp_params_df.theta[exp_params_df.FE_time !=0 ].values\n",
        "beta = exp_params_df.beta[exp_params_df.FE_time!=0].values\n",
        "cycles = pca_df.cycle[pca_df.FE_time !=0]\n",
        "pred_ht = exp_degradation([phi, theta, beta], 12)\n",
        "res=[]\n",
        "for x in pred_ht:\n",
        "  res.append(x+expon())\n",
        "print(res) \n",
        "\n"
      ],
      "execution_count": null,
      "outputs": [
        {
          "output_type": "stream",
          "name": "stdout",
          "text": [
            "[-5.988725031484206, -2.988725031484206, -0.9887250314842062, -3.988725031484206, 0.011274968515793793, -3.988725031484206, 0.011274968515793793, -5.988725031484206, -0.9887250314842062, -3.988725031484206, -4.988725031484206, -1.9887250314842062, -1.9887250314842062, -1.9887250314842062, -1.9887250314842062, 1.0112749685157938, 1.0112749685157938, -4.988725031484206, 1.0112749685157938, -1.9887250314842062, -4.988725031484206, -5.988725031484206, -1.9887250314842062, -2.988725031484206, -5.988725031484206, -1.9887250314842062, -0.9887250314842062, -3.988725031484206, -2.988725031484206, -2.988725031484206, 1.0112749685157938, -2.988725031484206, 0.011274968515793793, -2.988725031484206, 0.011274968515793793, -1.9887250314842062, -0.9887250314842062, -2.988725031484206, -3.988725031484206, -5.988725031484206, 0.011274968515793793, -2.988725031484206, -4.988725031484206, -4.988725031484206, -3.988725031484206, -2.988725031484206, -1.9887250314842062, 1.0112749685157938, -0.9887250314842062, -4.988725031484206, -3.988725031484206, -3.988725031484206, 1.0112749685157938, 0.011274968515793793, -3.988725031484206, 1.0112749685157938, 1.0112749685157938, -5.988725031484206, -0.9887250314842062, -0.9887250314842062, -1.9887250314842062, -0.9887250314842062, -4.988725031484206, 0.011274968515793793, -0.9887250314842062, -5.988725031484206, -3.988725031484206, -1.9887250314842062, 1.0112749685157938, -5.988725031484206, 0.011274968515793793, -3.988725031484206, -1.9887250314842062, 1.0112749685157938, -1.9887250314842062, -1.9887250314842062, -5.988725031484206, 1.0112749685157938, -2.988725031484206, -5.988725031484206, -5.988725031484206, 1.0112749685157938, 0.011274968515793793, 1.0112749685157938, 1.0112749685157938, -4.988725031484206, -0.9887250314842062, -2.988725031484206, -3.988725031484206, -3.988725031484206, 0.011274968515793793, 1.0112749685157938, -5.988725031484206, -1.9887250314842062, 0.011274968515793793, -3.988725031484206, -4.988725031484206, 1.0112749685157938, -0.9887250314842062, -2.988725031484206]\n"
          ]
        }
      ]
    },
    {
      "cell_type": "markdown",
      "metadata": {
        "id": "dPeQwQcHywtW"
      },
      "source": [
        "For all Units"
      ]
    },
    {
      "cell_type": "markdown",
      "metadata": {
        "id": "gh8mIxwAywtX"
      },
      "source": [
        "The exponential curves result in good fit. Since, The last value of health indicator is different in all units, we do not see threhsold in plots."
      ]
    },
    {
      "cell_type": "markdown",
      "metadata": {
        "id": "aV5JUm4HywtY"
      },
      "source": [
        "#### Visualizing various parameters distributions"
      ]
    }
  ]
}